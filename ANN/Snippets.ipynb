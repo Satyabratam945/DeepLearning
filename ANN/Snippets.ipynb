{
 "cells": [
  {
   "cell_type": "markdown",
   "id": "db671deb",
   "metadata": {},
   "source": [
    "# Batch normalisation\n"
   ]
  },
  {
   "cell_type": "code",
   "execution_count": null,
   "id": "7188609f",
   "metadata": {},
   "outputs": [],
   "source": [
    "model = keras.models.Sequential([\n",
    "keras.layers.Flatten(input_shape=[28, 28]),\n",
    "keras.layers.BatchNormalization(),\n",
    "keras.layers.Dense(300, activation=\"elu\",\n",
    "kernel_initializer=\"he_normal\"),\n",
    "keras.layers.BatchNormalization(),\n",
    "keras.layers.Dense(100, activation=\"elu\",\n",
    "kernel_initializer=\"he_normal\"),\n",
    "keras.layers.BatchNormalization(),\n",
    "keras.layers.Dense(10, activation=\"softmax\")\n",
    "])\n"
   ]
  },
  {
   "cell_type": "markdown",
   "id": "037dff0c",
   "metadata": {},
   "source": [
    "# TL -> This affects model A as well\n"
   ]
  },
  {
   "cell_type": "code",
   "execution_count": null,
   "id": "ce5da80c",
   "metadata": {},
   "outputs": [],
   "source": [
    "\n",
    "model_A = keras.models.load_model(\"my_model_A.h5\")\n",
    "\n",
    "# remove output layer\n",
    "model_B_on_A = keras.models.Sequential(model_A.layers[:-1])\n",
    "\n",
    "# add new output layer \n",
    "model_B_on_A.add(keras.layers.Dense(1, activation=\"sigmoid\"))\n"
   ]
  },
  {
   "cell_type": "markdown",
   "id": "f17be36e",
   "metadata": {},
   "source": [
    "### Freeze layers : since last layer was initialised randomly, huge gradient, should not propagate backwards initially to layers\n"
   ]
  },
  {
   "cell_type": "code",
   "execution_count": null,
   "id": "00310ba9",
   "metadata": {},
   "outputs": [],
   "source": [
    "\n",
    "for layer in model_B_on_A.layers[:-1]:\n",
    "    layer.trainable = False\n",
    "    model_B_on_A.compile(loss=\"binary_crossentropy\", optimizer=\"sgd\",metrics=[\"accuracy\"])\n"
   ]
  },
  {
   "cell_type": "markdown",
   "id": "05fc442c",
   "metadata": {},
   "source": [
    "### unfreezing layers : After a few runs, we can unfreeze lower layers, but reduce the learning rate\n"
   ]
  },
  {
   "cell_type": "code",
   "execution_count": null,
   "id": "cd7bbdc1",
   "metadata": {},
   "outputs": [],
   "source": [
    "# train initially with frozen for 4 epochs\n",
    "history = model_B_on_A.fit(X_train_B, y_train_B, epochs=4, validation_data=(X_valid_B, y_valid_B))\n",
    "\n",
    "\n",
    "# After 4 epochs,we can unfreeze the layers and then start training with smaller lr\n",
    "\n",
    "for layer in model_B_on_A.layers[:-1]:\n",
    "    layer.trainable = True\n",
    "\n",
    "optimizer = keras.optimizers.SGD(lr=1e-4) # the default lr is 1e-2\n",
    "\n",
    "model_B_on_A.compile(loss=\"binary_crossentropy\", optimizer=optimizer,metrics=[\"accuracy\"])\n",
    "\n",
    "history = model_B_on_A.fit(X_train_B, y_train_B, epochs=16, validation_data=(X_valid_B, y_valid_B))\n"
   ]
  },
  {
   "cell_type": "code",
   "execution_count": null,
   "id": "66cd879f",
   "metadata": {},
   "outputs": [],
   "source": [
    "# with clone -> This does not affect model A\n",
    "\n",
    "model_A_clone = keras.models.clone_model(model_A)\n",
    "model_A_clone.set_weights(model_A.get_weights()"
   ]
  },
  {
   "cell_type": "markdown",
   "id": "731906d1",
   "metadata": {},
   "source": [
    "# Optimizers "
   ]
  },
  {
   "cell_type": "code",
   "execution_count": null,
   "id": "084f674f",
   "metadata": {},
   "outputs": [],
   "source": [
    "# momentum\n",
    "\n",
    "\n",
    "optimizer = keras.optimizers.SGD(lr=0.001, momentum=0.9)\n",
    "\n",
    "# nesterov\n",
    "\n",
    "optimizer = keras.optimizers.SGD(lr=0.001, momentum=0.9, nesterov=True)\n"
   ]
  }
 ],
 "metadata": {
  "kernelspec": {
   "display_name": "Python 3 (ipykernel)",
   "language": "python",
   "name": "python3"
  },
  "language_info": {
   "codemirror_mode": {
    "name": "ipython",
    "version": 3
   },
   "file_extension": ".py",
   "mimetype": "text/x-python",
   "name": "python",
   "nbconvert_exporter": "python",
   "pygments_lexer": "ipython3",
   "version": "3.9.7"
  }
 },
 "nbformat": 4,
 "nbformat_minor": 5
}
